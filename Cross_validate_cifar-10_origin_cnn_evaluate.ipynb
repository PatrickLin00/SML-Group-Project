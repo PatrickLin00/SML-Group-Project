{
 "cells": [
  {
   "cell_type": "code",
   "execution_count": 72,
   "metadata": {},
   "outputs": [],
   "source": [
    "from sklearn.tree import DecisionTreeClassifier\n",
    "from sklearn.datasets import load_iris\n",
    "from sklearn.model_selection import KFold\n",
    "from sklearn.metrics import accuracy_score, precision_score, recall_score, f1_score, roc_auc_score\n",
    "import numpy as np\n",
    "import pickle\n",
    "import matplotlib.pyplot as plt\n",
    "from tensorflow.keras import layers, models\n",
    "from tensorflow.keras.utils import to_categorical\n",
    "from tensorflow import keras\n",
    "from keras import models\n",
    "from keras.models import Sequential\n",
    "from keras.optimizers import Adam\n",
    "import tensorflow as tf\n",
    "import os\n",
    "import copy\n",
    "from sklearn.model_selection import train_test_split"
   ]
  },
  {
   "cell_type": "code",
   "execution_count": 73,
   "metadata": {},
   "outputs": [],
   "source": [
    "# Run Noise_process before run this file\n",
    "def get_dataset(obj_name):\n",
    "    filename_labels = 'train_labels.npy'\n",
    "    filename_origin = 'origin_cifar10.npy'\n",
    "    filename_small_noise = 'small_noise_cifar10.npy'\n",
    "    filename_medium_noise = 'medium_noise_cifar10.npy'\n",
    "    filename_large_noise = 'large_noise_cifar10.npy'\n",
    "    \n",
    "    train_set = None\n",
    "    match obj_name:\n",
    "        case 'origin':\n",
    "            train_set = np.load(filename_origin)\n",
    "        case 'small_noise':\n",
    "            train_set = np.load(filename_small_noise)\n",
    "        case 'medium_noise':\n",
    "            train_set = np.load(filename_medium_noise)\n",
    "        case 'large_noise':\n",
    "            train_set = np.load(filename_large_noise)\n",
    "        case _:\n",
    "            raise ValueError(f\"Unknown obj_name: {obj_name}\")\n",
    "    label_set = np.load(filename_labels) if train_set.size > 0 else None\n",
    "\n",
    "    if label_set is None or train_set is None:\n",
    "        print(\"Run Noise_process.ipynb before run this file\")\n",
    "    return train_set, label_set"
   ]
  },
  {
   "cell_type": "code",
   "execution_count": 74,
   "metadata": {},
   "outputs": [],
   "source": [
    "ORIGIN='origin'\n",
    "SMALL='small_noise'\n",
    "MEDIUM='medium_noise'\n",
    "LARGE='large_noise'\n",
    "all_dataset = [ORIGIN, SMALL, MEDIUM, LARGE]"
   ]
  },
  {
   "cell_type": "code",
   "execution_count": 75,
   "metadata": {},
   "outputs": [],
   "source": [
    "# CNN: learning_rate, num_filter, filter_size\n",
    "best_config_origin_cnn={'name': ORIGIN, 'num_filter': 128}\n",
    "best_config_small_cnn={'name': SMALL, 'num_filter': 128}\n",
    "best_config_medium_cnn={'name': MEDIUM, 'num_filter': 128}\n",
    "best_config_large_cnn={'name': LARGE, 'num_filter': 128}\n",
    "best_config_cnn=[]\n",
    "best_config_cnn.append(best_config_origin_cnn)\n",
    "best_config_cnn.append(best_config_small_cnn)\n",
    "best_config_cnn.append(best_config_medium_cnn)\n",
    "best_config_cnn.append(best_config_large_cnn)"
   ]
  },
  {
   "cell_type": "markdown",
   "metadata": {},
   "source": [
    "Build Model"
   ]
  },
  {
   "cell_type": "code",
   "execution_count": 76,
   "metadata": {},
   "outputs": [],
   "source": [
    "def build_simple_cnn(num_filter, learning_rate=0.0005, filter_size=(3,3), input_shape=(32, 32, 3), num_classes=10):\n",
    "    model = models.Sequential()\n",
    "    model.add(layers.Input(shape=input_shape))  \n",
    "    model.add(layers.Conv2D(num_filter, filter_size, activation='relu', padding='same'))\n",
    "    model.add(layers.BatchNormalization())\n",
    "    model.add(layers.MaxPooling2D((2, 2)))\n",
    "    model.add(layers.Flatten())\n",
    "    model.add(layers.Dense(128, activation='relu'))\n",
    "    model.add(layers.Dense(num_classes, activation='softmax'))\n",
    "    model.compile(optimizer=Adam(learning_rate=learning_rate), loss='categorical_crossentropy', metrics=['accuracy'])\n",
    "    return model"
   ]
  },
  {
   "cell_type": "code",
   "execution_count": 77,
   "metadata": {},
   "outputs": [],
   "source": [
    "def get_processed_dataset(model_name):\n",
    "    train_set, label_set = get_dataset(model_name)\n",
    "\n",
    "    X_combined_reshaped = train_set.reshape(-1, 32, 32, 3)\n",
    "    X_combined_reshaped = X_combined_reshaped.astype('float32') / 255.0\n",
    "    y_combined_categorical = to_categorical(label_set, num_classes=10)\n",
    "\n",
    "    return X_combined_reshaped, y_combined_categorical"
   ]
  },
  {
   "cell_type": "code",
   "execution_count": 78,
   "metadata": {},
   "outputs": [],
   "source": [
    "def plot_learning_curves(all_history, model_name):\n",
    "    train_loss = np.mean([h['loss'] for h in all_history], axis=0)\n",
    "    val_loss = np.mean([h['val_loss'] for h in all_history], axis=0)\n",
    "    train_accuracy = np.mean([h['accuracy'] for h in all_history], axis=0)\n",
    "    val_accuracy = np.mean([h['val_accuracy'] for h in all_history], axis=0)\n",
    "\n",
    "    plt.figure(figsize=(12, 5))\n",
    "    \n",
    "    plt.subplot(1, 2, 1)\n",
    "    plt.plot(train_loss, label='Train Loss')\n",
    "    plt.plot(val_loss, label='Validation Loss')\n",
    "    plt.title(f'Loss Curve {model_name} CNN')\n",
    "    plt.xlabel('Epochs')\n",
    "    plt.ylabel('Loss')\n",
    "    plt.legend()\n",
    "\n",
    "    plt.subplot(1, 2, 2)\n",
    "    plt.plot(train_accuracy, label='Train Accuracy')\n",
    "    plt.plot(val_accuracy, label='Validation Accuracy')\n",
    "    plt.title(f'Accuracy Curve {model_name} CNN')\n",
    "    plt.xlabel('Epochs')\n",
    "    plt.ylabel('Accuracy')\n",
    "    plt.legend()\n",
    "    \n",
    "    plt.show()"
   ]
  },
  {
   "cell_type": "code",
   "execution_count": null,
   "metadata": {},
   "outputs": [
    {
     "name": "stdout",
     "output_type": "stream",
     "text": [
      "Fold 1/20\n"
     ]
    }
   ],
   "source": [
    "all_performance_cnn = {}\n",
    "all_histories = {}\n",
    "for config in best_config_cnn:\n",
    "    model_name = config['name']\n",
    "\n",
    "    model_performance = {}\n",
    "    \n",
    "    # Use 80% for cross validation and 20% for robustness test for other model\n",
    "    x_processed, y_processed = get_processed_dataset(model_name)\n",
    "    x_cv, _, y_cv, _ = train_test_split(x_processed, y_processed, test_size=0.2, random_state=42)\n",
    "\n",
    "    # Cross Validation\n",
    "    kf = KFold(n_splits=20, shuffle=True, random_state=42)\n",
    "    all_history = []\n",
    "\n",
    "    for fold, (train_index, val_index) in enumerate(kf.split(x_cv)):\n",
    "        print(f'Fold {fold + 1}/{20}')\n",
    "\n",
    "        model = build_simple_cnn(config['num_filter'])\n",
    "\n",
    "        x_train, x_val = x_cv[train_index], x_cv[val_index]\n",
    "        y_train, y_val = y_cv[train_index], y_cv[val_index]\n",
    "\n",
    "        history = model.fit(x_train, y_train, epochs=5, batch_size=128, validation_data=(x_val, y_val), verbose=0)\n",
    "        all_history.append(history.history)\n",
    "        model_performance_fold = {}\n",
    "        # Robustness Test\n",
    "        for dataset_name in all_dataset:\n",
    "            if dataset_name == model_name:\n",
    "                # Do robustness evaluations on other dataset\n",
    "                continue\n",
    "            # Get rest part of dataset which never used on Cross Validation\n",
    "            x_evaluated, y_evaluated = get_processed_dataset(dataset_name)\n",
    "            _, x_test, _, y_test = train_test_split(x_evaluated, y_evaluated, test_size=0.2, random_state=42)\n",
    "\n",
    "            y_pred = model.predict(x_test)\n",
    "            y_pred_classes = np.argmax(y_pred, axis=1)\n",
    "            y_true_classes = np.argmax(y_test, axis=1) \n",
    "\n",
    "            accuracy = accuracy_score(y_true_classes, y_pred_classes)\n",
    "            precision = precision_score(y_true_classes, y_pred_classes, average='macro', zero_devision=0)\n",
    "            recall = recall_score(y_true_classes, y_pred_classes, average='macro')\n",
    "\n",
    "            print(f\"Run {model_name}, in {dataset_name} at Fold {fold + 1}/{20}: Accuracy: {accuracy}, Precision: {precision}, Recall: {recall}\")\n",
    "            \n",
    "            model_performance_fold[dataset_name] = {'accuracy' : accuracy, 'precision' : precision, 'recall' : recall}\n",
    "        model_performance[fold+1] = model_performance_fold\n",
    "\n",
    "    all_performance_cnn[model_name] = model_performance\n",
    "\n",
    "    plot_learning_curves(all_history, model_name)\n",
    "    all_histories[model_name] = all_history\n",
    "\n",
    "    \n",
    "    \n",
    "\n",
    "\n",
    "\n"
   ]
  },
  {
   "cell_type": "code",
   "execution_count": 32,
   "metadata": {},
   "outputs": [
    {
     "data": {
      "text/plain": [
       "{'accuracy': 0.5008333333333334,\n",
       " 'precision': 0.5168180334840571,\n",
       " 'recall': 0.5008333333333334}"
      ]
     },
     "execution_count": 32,
     "metadata": {},
     "output_type": "execute_result"
    }
   ],
   "source": [
    "all_performance_cnn[SMALL][1][ORIGIN]"
   ]
  },
  {
   "cell_type": "code",
   "execution_count": 66,
   "metadata": {},
   "outputs": [],
   "source": [
    "def show_plt(dict, name):\n",
    "    noise_levels = list(dict.keys())\n",
    "    accuracy = [dict[noise]['accuracy'] for noise in noise_levels]\n",
    "    precision = [dict[noise]['precision'] for noise in noise_levels]\n",
    "    recall = [dict[noise]['recall'] for noise in noise_levels]\n",
    "\n",
    "    plt.figure(figsize=(10, 6))\n",
    "    plt.plot(noise_levels, accuracy, marker='o', label='Accuracy')\n",
    "    plt.plot(noise_levels, precision, marker='o', label='Precision')\n",
    "    plt.plot(noise_levels, recall, marker='o', label='Recall')\n",
    "\n",
    "    plt.title('Model Performance under Different Noise Levels')\n",
    "    plt.xlabel('Noise Level')\n",
    "    plt.ylabel('Score')\n",
    "    plt.ylim(0, 1)  \n",
    "    plt.legend()\n",
    "    plt.grid()\n",
    "    plt.tight_layout()\n",
    "\n",
    "    plt.show()"
   ]
  },
  {
   "cell_type": "code",
   "execution_count": 63,
   "metadata": {},
   "outputs": [],
   "source": [
    "all_metrics = {}\n",
    "for model_name in all_dataset:\n",
    "    dataset_record = {}\n",
    "    for dataset_name in all_dataset:\n",
    "        if dataset_name == model_name:\n",
    "            continue\n",
    "        dataset_record[dataset_name] = {'accuracy':[], 'precision':[], 'recall':[]}\n",
    "    all_metrics[model_name] = dataset_record\n",
    "    for i in range(1, 21):\n",
    "        for dataset in all_dataset:\n",
    "            if model_name != dataset:\n",
    "                dataset_record[dataset]['accuracy'].append(all_performance_cnn[model_name][i][dataset]['accuracy'])\n",
    "                dataset_record[dataset]['precision'].append(all_performance_cnn[model_name][i][dataset]['precision'])\n",
    "                dataset_record[dataset]['recall'].append(all_performance_cnn[model_name][i][dataset]['recall'])"
   ]
  },
  {
   "cell_type": "code",
   "execution_count": 65,
   "metadata": {},
   "outputs": [
    {
     "data": {
      "text/plain": [
       "{'small_noise': {'accuracy': 0.4417916666666667,\n",
       "  'precision': 0.5178176862962501,\n",
       "  'recall': 0.4417916666666667},\n",
       " 'medium_noise': {'accuracy': 0.43962500000000004,\n",
       "  'precision': 0.479040342414429,\n",
       "  'recall': 0.43962500000000004},\n",
       " 'large_noise': {'accuracy': 0.23450000000000001,\n",
       "  'precision': 0.37270073439600643,\n",
       "  'recall': 0.23450000000000001}}"
      ]
     },
     "execution_count": 65,
     "metadata": {},
     "output_type": "execute_result"
    }
   ],
   "source": [
    "for model_name in all_dataset:\n",
    "    for dataset_name in all_dataset:\n",
    "        if dataset_name == model_name:\n",
    "            continue\n",
    "        all_metrics[model_name][dataset_name]['accuracy'] = np.mean(all_metrics[model_name][dataset_name]['accuracy'])\n",
    "        all_metrics[model_name][dataset_name]['precision'] = np.mean(all_metrics[model_name][dataset_name]['precision'])\n",
    "        all_metrics[model_name][dataset_name]['recall'] = np.mean(all_metrics[model_name][dataset_name]['recall'])\n",
    "\n",
    "all_metrics[ORIGIN]"
   ]
  },
  {
   "cell_type": "code",
   "execution_count": 69,
   "metadata": {},
   "outputs": [
    {
     "data": {
      "image/png": "[encoded data removed]",
      "text/plain": [
       "<Figure size 1000x600 with 1 Axes>"
      ]
     },
     "metadata": {},
     "output_type": "display_data"
    }
   ],
   "source": [
    "show_plt(all_metrics[ORIGIN], ORIGIN)\n",
    "show_plt(all_metrics[SMALL], SMALL)\n",
    "show_plt(all_metrics[MEDIUM], MEDIUM)\n",
    "show_plt(all_metrics[LARGE], ORIGIN)"
   ]
  }
 ],
 "metadata": {
  "kernelspec": {
   "display_name": "Python 3",
   "language": "python",
   "name": "python3"
  },
  "language_info": {
   "codemirror_mode": {
    "name": "ipython",
    "version": 3
   },
   "file_extension": ".py",
   "mimetype": "text/x-python",
   "name": "python",
   "nbconvert_exporter": "python",
   "pygments_lexer": "ipython3",
   "version": "3.11.9"
  }
 },
 "nbformat": 4,
 "nbformat_minor": 2
}
