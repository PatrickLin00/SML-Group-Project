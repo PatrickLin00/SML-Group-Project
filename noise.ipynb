{
 "cells": [
  {
   "cell_type": "code",
   "execution_count": 3,
   "id": "44e278f9-ad47-4002-b1de-c9661e5f7ee3",
   "metadata": {},
   "outputs": [
    {
     "name": "stdout",
     "output_type": "stream",
     "text": [
      "Downloading data from https://www.cs.toronto.edu/~kriz/cifar-100-python.tar.gz\n",
      "\u001b[1m169001437/169001437\u001b[0m \u001b[32m━━━━━━━━━━━━━━━━━━━━\u001b[0m\u001b[37m\u001b[0m \u001b[1m40s\u001b[0m 0us/step\n"
     ]
    }
   ],
   "source": [
    "import tensorflow as tf\n",
    "\n",
    "# Load CIFAR-100 dataset\n",
    "(train_images, train_labels), (test_images, test_labels) = tf.keras.datasets.cifar100.load_data()\n"
   ]
  },
  {
   "cell_type": "code",
   "execution_count": 5,
   "id": "68232e77-0801-4a55-a5df-6687100d7036",
   "metadata": {},
   "outputs": [],
   "source": [
    "import cv2\n",
    "import numpy as np\n",
    "\n",
    "def rotate_image(image, angle):\n",
    "    \"\"\" Rotate the image by a given angle \"\"\"\n",
    "    center = (image.shape[1] // 2, image.shape[0] // 2)\n",
    "    rot_mat = cv2.getRotationMatrix2D(center, angle, 1.0)\n",
    "    return cv2.warpAffine(image, rot_mat, image.shape[1::-1], flags=cv2.INTER_LINEAR)\n",
    "\n",
    "def add_gaussian_noise(image, mean=0, std=0.1):\n",
    "    \"\"\" Add Gaussian noise to an image \"\"\"\n",
    "    gauss = np.random.normal(mean, std, image.shape).astype('uint8')\n",
    "    noisy_img = cv2.add(image, gauss)\n",
    "    return noisy_img\n",
    "\n",
    "def add_occlusion(image, coverage=0.1):\n",
    "    \"\"\" Add a black rectangle occlusion \"\"\"\n",
    "    x = int(np.random.rand() * image.shape[1])\n",
    "    y = int(np.random.rand() * image.shape[0])\n",
    "    w = int(image.shape[1] * coverage)\n",
    "    h = int(image.shape[0] * coverage)\n",
    "    occluded_image = image.copy()\n",
    "    occluded_image[y:y+h, x:x+w] = 0\n",
    "    return occluded_image\n",
    "\n",
    "def crop_and_rotate(image, crop_percent=0.1, angle=15):\n",
    "    \"\"\" Crop the edges of the image and rotate \"\"\"\n",
    "    crop_size = int(crop_percent * image.shape[0])\n",
    "    cropped_img = image[crop_size:-crop_size, crop_size:-crop_size]\n",
    "    return rotate_image(cropped_img, angle)\n"
   ]
  },
  {
   "cell_type": "code",
   "execution_count": 7,
   "id": "d5b63d22-82b7-43f1-b71b-d41990bb318a",
   "metadata": {},
   "outputs": [],
   "source": [
    "# Example for Experiment 2: Small Noise\n",
    "small_noise_images = [add_occlusion(rotate_image(img, 1.5), coverage=0.05) for img in train_images]\n",
    "\n",
    "# Example for Experiment 3: Medium Noise\n",
    "medium_noise_images = [add_occlusion(add_gaussian_noise(img, std=0.1), coverage=0.2) for img in train_images]\n",
    "\n",
    "# Example for Experiment 4: Large Noise\n",
    "large_noise_images = [crop_and_rotate(add_gaussian_noise(img, std=0.2), crop_percent=0.1, angle=15) for img in train_images]\n"
   ]
  },
  {
   "cell_type": "code",
   "execution_count": 9,
   "id": "cc33ad11-fd6a-4f88-a557-b6680ee45b4e",
   "metadata": {},
   "outputs": [],
   "source": [
    "# Example to save the dataset\n",
    "np.save('small_noise_cifar100.npy', small_noise_images)\n"
   ]
  },
  {
   "cell_type": "code",
   "execution_count": null,
   "id": "a42b9234-e9d7-4e05-9153-74ed9ce80eab",
   "metadata": {},
   "outputs": [],
   "source": [
    "np.save('medium_noise_images.npy', medium_noise_images)"
   ]
  },
  {
   "cell_type": "code",
   "execution_count": null,
   "id": "15dc1d7e-fe45-4bb9-9713-37d18235b3c1",
   "metadata": {},
   "outputs": [],
   "source": []
  }
 ],
 "metadata": {
  "kernelspec": {
   "display_name": "Python 3 (ipykernel)",
   "language": "python",
   "name": "python3"
  },
  "language_info": {
   "codemirror_mode": {
    "name": "ipython",
    "version": 3
   },
   "file_extension": ".py",
   "mimetype": "text/x-python",
   "name": "python",
   "nbconvert_exporter": "python",
   "pygments_lexer": "ipython3",
   "version": "3.12.4"
  }
 },
 "nbformat": 4,
 "nbformat_minor": 5
}
