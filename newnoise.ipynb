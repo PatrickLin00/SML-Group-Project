{
 "cells": [
  {
   "cell_type": "code",
   "execution_count": 2,
   "id": "eada144f-a399-4ec9-9103-34004a8a290f",
   "metadata": {},
   "outputs": [],
   "source": [
    "import os\n",
    "import pickle\n",
    "import numpy as np\n",
    "import cv2\n",
    "\n",
    "# Step 1: Load and preprocess data\n",
    "def load_cifar10_data(data_dir):\n",
    "    X = []\n",
    "    Y = []\n",
    "    # Load all training batches\n",
    "    for i in range(1, 6):\n",
    "        with open(os.path.join(data_dir, f'data_batch_{i}'), 'rb') as file:\n",
    "            batch = pickle.load(file, encoding='latin1')\n",
    "            X.append(batch['data'])\n",
    "            Y.extend(batch['labels'])\n",
    "    \n",
    "    # Concatenate data and reshape to the correct image format (batch_size, height, width, channels)\n",
    "    X = np.concatenate(X).reshape(-1, 3, 32, 32).transpose(0, 2, 3, 1)\n",
    "    \n",
    "    # Load test data\n",
    "    with open(os.path.join(data_dir, 'test_batch'), 'rb') as file:\n",
    "        test_batch = pickle.load(file, encoding='latin1')\n",
    "        X_test = test_batch['data'].reshape(-1, 3, 32, 32).transpose(0, 2, 3, 1)\n",
    "        Y_test = test_batch['labels']\n",
    "    \n",
    "    # Combine train and test data\n",
    "    X = np.vstack((X, X_test))\n",
    "    Y.extend(Y_test)\n",
    "    Y = np.array(Y)\n",
    "    \n",
    "    return X, Y\n",
    "\n",
    "# Image transformation functions\n",
    "def rotate_image(image, angle):\n",
    "    \"\"\" Rotate the image by a given angle \"\"\"\n",
    "    center = (image.shape[1] // 2, image.shape[0] // 2)\n",
    "    rot_mat = cv2.getRotationMatrix2D(center, angle, 1.0)\n",
    "    return cv2.warpAffine(image, rot_mat, image.shape[1::-1], flags=cv2.INTER_LINEAR)\n",
    "\n",
    "def add_gaussian_noise(image, mean=0, std=0.1):\n",
    "    \"\"\" Add Gaussian noise to an image \"\"\"\n",
    "    gauss = np.random.normal(mean, std, image.shape).astype('uint8')\n",
    "    noisy_img = cv2.add(image, gauss)\n",
    "    return noisy_img\n",
    "\n",
    "def add_occlusion(image, coverage=0.1):\n",
    "    \"\"\" Add a black rectangle occlusion \"\"\"\n",
    "    x = int(np.random.rand() * image.shape[1])\n",
    "    y = int(np.random.rand() * image.shape[0])\n",
    "    w = int(image.shape[1] * coverage)\n",
    "    h = int(image.shape[0] * coverage)\n",
    "    occluded_image = image.copy()\n",
    "    occluded_image[y:y+h, x:x+w] = 0\n",
    "    return occluded_image\n",
    "\n",
    "def crop_and_rotate(image, crop_percent=0.1, angle=15):\n",
    "    \"\"\" Crop the edges of the image and rotate \"\"\"\n",
    "    crop_size = int(crop_percent * image.shape[0])\n",
    "    cropped_img = image[crop_size:-crop_size, crop_size:-crop_size]\n",
    "    return rotate_image(cropped_img, angle)\n"
   ]
  },
  {
   "cell_type": "code",
   "execution_count": 7,
   "id": "5ad64c84-4777-40da-a3c5-75f1ece007e5",
   "metadata": {},
   "outputs": [],
   "source": [
    "# Loading the CIFAR-10 dataset\n",
    "data_dir = 'cifar-10-batches-py'\n",
    "train_images, train_labels = load_cifar10_data(data_dir)\n"
   ]
  },
  {
   "cell_type": "code",
   "execution_count": 9,
   "id": "7cc8f05a-3521-4ccd-95fb-25ecd4a68655",
   "metadata": {},
   "outputs": [],
   "source": [
    "# Experiment 2: Small Noise (rotation + small occlusion)\n",
    "small_noise_images = [add_occlusion(rotate_image(img, 1.5), coverage=0.05) for img in train_images]\n",
    "\n",
    "# Experiment 3: Medium Noise (Gaussian noise + larger occlusion)\n",
    "medium_noise_images = [add_occlusion(add_gaussian_noise(img, std=0.1), coverage=0.2) for img in train_images]\n",
    "\n",
    "# Experiment 4: Large Noise (Gaussian noise + crop and rotate)\n",
    "large_noise_images = [crop_and_rotate(add_gaussian_noise(img, std=0.2), crop_percent=0.1, angle=15) for img in train_images]\n"
   ]
  },
  {
   "cell_type": "code",
   "execution_count": 14,
   "id": "2acddf53-bb3e-404c-97c4-adbec92b5179",
   "metadata": {},
   "outputs": [],
   "source": [
    "# Example to save the dataset\n",
    "np.save('small_noise_cifar10.npy', small_noise_images)"
   ]
  },
  {
   "cell_type": "code",
   "execution_count": 15,
   "id": "6d92415b-0fa5-4830-93b9-2f18a3b2124f",
   "metadata": {},
   "outputs": [],
   "source": [
    "np.save('medium_noise_cifar10.npy', medium_noise_images)"
   ]
  },
  {
   "cell_type": "code",
   "execution_count": 18,
   "id": "2bd0e66d-1552-4a59-a54e-99f462c635a6",
   "metadata": {},
   "outputs": [],
   "source": [
    "np.save('large_noise_cifar10.npy', large_noise_images)"
   ]
  }
 ],
 "metadata": {
  "kernelspec": {
   "display_name": "Python 3 (ipykernel)",
   "language": "python",
   "name": "python3"
  },
  "language_info": {
   "codemirror_mode": {
    "name": "ipython",
    "version": 3
   },
   "file_extension": ".py",
   "mimetype": "text/x-python",
   "name": "python",
   "nbconvert_exporter": "python",
   "pygments_lexer": "ipython3",
   "version": "3.12.4"
  }
 },
 "nbformat": 4,
 "nbformat_minor": 5
}
